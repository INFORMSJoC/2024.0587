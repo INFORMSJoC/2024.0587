{
 "cells": [
  {
   "cell_type": "code",
   "execution_count": null,
   "metadata": {
    "collapsed": true
   },
   "outputs": [],
   "source": [
    "import numpy as np\n",
    "import pyomo.environ as pyo\n",
    "\n",
    "def solve_problem_num(problem_num, T):\n",
    "    def get_Q_b(problem_num):\n",
    "        with open(f\"resources/50d_instance{problem_num}.npy\", 'rb') as f:\n",
    "            Q = np.load(f)\n",
    "            b = np.load(f)\n",
    "            # global_sol = np.load(f)\n",
    "        return Q, b\n",
    "\n",
    "    Q, w = get_Q_b(problem_num)\n",
    "    n = len(Q)\n",
    "\n",
    "    # Create a model\n",
    "    model = pyo.ConcreteModel()\n",
    "\n",
    "    # Indices for the variables\n",
    "    model.I = range(n)\n",
    "\n",
    "    # Variables between 0 and 1\n",
    "    model.x = pyo.Var(model.I, within=pyo.UnitInterval)\n",
    "\n",
    "    # Objective function: 0.5 * x^T Q x + w^T x\n",
    "    def obj_rule(model):\n",
    "        return 0.5 * sum(model.x[i] * Q[i, j] * model.x[j] for i in model.I for j in model.I) + sum(w[i] * model.x[i] for i in model.I)\n",
    "\n",
    "    model.objective = pyo.Objective(rule=obj_rule, sense=pyo.minimize)\n",
    "\n",
    "    # Solver configuration\n",
    "    solver = pyo.SolverFactory('baron')\n",
    "    # Set the time limit in seconds (T)\n",
    "    solver.options['MaxTime'] = T\n",
    "    # Solve the model\n",
    "    results = solver.solve(model, tee=True)  # tee=True to display solver output\n",
    "    best_objective_value = pyo.value(model.objective)\n",
    "    return best_objective_value"
   ]
  },
  {
   "cell_type": "code",
   "execution_count": null,
   "outputs": [],
   "source": [
    "results = dict()\n",
    "problems_times = [(1, 9.41e-1), (1, 5.12e+0), (2, 3.12e+1), (2, 1.15e+1 ), (3, 4.30e-1), (3, 9.57e-1), (4, 3.17e+1), (4, 2.68e+1), (5, 7.65e+0), (5, 5.50e+0)]\n",
    "for problem_num, time in problems_times:\n",
    "    results[(problem_num, time)] = solve_problem_num(problem_num, time)"
   ],
   "metadata": {
    "collapsed": false
   }
  },
  {
   "cell_type": "code",
   "execution_count": null,
   "outputs": [],
   "source": [
    "def solve_problem_num(problem_num, T):\n",
    "    def get_Q_b(problem_num):\n",
    "        with open(f\"resources/50d_instance{problem_num}.npy\", 'rb') as f:\n",
    "            Q = np.load(f)\n",
    "            b = np.load(f)\n",
    "            # global_sol = np.load(f)\n",
    "        return Q, b\n",
    "\n",
    "    Q, w = get_Q_b(problem_num - 5)\n",
    "    n = len(Q)\n",
    "\n",
    "    model = pyo.ConcreteModel()\n",
    "\n",
    "    # Index set for the variables\n",
    "    model.I = pyo.RangeSet(0, n - 1)\n",
    "\n",
    "    # Variables, define range for x_i, for example, between 0 and pi\n",
    "    model.x = pyo.Var(model.I, bounds=(0, 1))\n",
    "\n",
    "    def objective_rule(model):\n",
    "        # Summing over all i, j for the Q_ij * exp(x_i) * exp(x_j) terms\n",
    "        expr1 = sum(\n",
    "            0.5 * Q[i, j] * pyo.exp(model.x[i]) * pyo.exp(model.x[j]) for i in model.I for j in\n",
    "            model.I)\n",
    "        # Summing over all i for the w_i * exp(-x_i) terms\n",
    "        expr2 = sum(w[i] * pyo.exp(-model.x[i]) for i in model.I)\n",
    "        return expr1 + expr2\n",
    "\n",
    "    model.objective = pyo.Objective(rule=objective_rule, sense=pyo.minimize)\n",
    "    solver = pyo.SolverFactory('baron')\n",
    "    solver.options['MaxTime'] = T\n",
    "    # Solve the model\n",
    "    results = solver.solve(model, tee=True)\n",
    "    # Set the time limit in seconds (T)\n",
    "    best_objective_value = pyo.value(model.objective)\n",
    "    return best_objective_value"
   ],
   "metadata": {
    "collapsed": false
   }
  },
  {
   "cell_type": "code",
   "execution_count": null,
   "outputs": [],
   "source": [
    "problems_times = [(6, 1.98e-1), (6, 3.65e-2), (7, 4.15e+0), (7, 2.22e-1 ), (8, 3.52e+1), (8, 1.38e-1), (9, 7.82e+0), (9, 3.92e-1), (10, 9.34e+0), (10, 1.36e-1)]\n",
    "for problem_num, time in problems_times:\n",
    "    results[(problem_num, time)] = solve_problem_num(problem_num, time)"
   ],
   "metadata": {
    "collapsed": false
   }
  },
  {
   "cell_type": "code",
   "execution_count": null,
   "outputs": [],
   "source": [
    "results"
   ],
   "metadata": {
    "collapsed": false
   }
  },
  {
   "cell_type": "code",
   "execution_count": null,
   "outputs": [],
   "source": [
    "# Problem 1\n",
    "# Create a model\n",
    "\n",
    "def solve_problem1(T):\n",
    "    model = pyo.ConcreteModel()\n",
    "\n",
    "    # Variables\n",
    "    # model.x = pyo.Var(within=pyo.Reals)\n",
    "    # model.y = pyo.Var(within=pyo.Reals)\n",
    "    model.x = pyo.Var(within=pyo.UnitInterval)\n",
    "    model.y = pyo.Var(within=pyo.UnitInterval)\n",
    "    # Objective function\n",
    "    def obj_rule(model):\n",
    "        return -4 * model.x**2 + 3 * model.x * model.y - 2 * model.y**2 + 3 * model.x - model.y\n",
    "\n",
    "    model.objective = pyo.Objective(rule=obj_rule, sense=pyo.minimize)\n",
    "\n",
    "    # Solver configuration\n",
    "    solver = pyo.SolverFactory('baron')\n",
    "    solver.options['MaxTime'] = T\n",
    "    results = solver.solve(model, tee=True)\n",
    "\n",
    "    best_objective_value = pyo.value(model.objective)\n",
    "    return best_objective_value"
   ],
   "metadata": {
    "collapsed": false
   }
  },
  {
   "cell_type": "code",
   "execution_count": null,
   "outputs": [],
   "source": [
    "#problem 2\n",
    "import pyomo.environ as pyo\n",
    "\n",
    "def solve_problem2(T):\n",
    "    # Create a model\n",
    "    model = pyo.ConcreteModel()\n",
    "\n",
    "    # Variables\n",
    "    model.x = pyo.Var(within=pyo.UnitInterval)\n",
    "    model.y = pyo.Var(within=pyo.UnitInterval)\n",
    "\n",
    "    # Objective function\n",
    "    def obj_rule(model):\n",
    "        return -2 * (model.x - 1/3)**2 + model.y**2 - (1/3) * model.y * pyo.log(3 * model.x + 1/2) + 5 * (model.x**2 - model.y**2 - model.x - 1/2)**2\n",
    "\n",
    "    model.objective = pyo.Objective(rule=obj_rule, sense=pyo.minimize)\n",
    "\n",
    "    # Solver configuration\n",
    "    solver = pyo.SolverFactory('baron')\n",
    "    solver.options['MaxTime'] = T\n",
    "    results = solver.solve(model, tee=True)\n",
    "\n",
    "    best_objective_value = pyo.value(model.objective)\n",
    "    return best_objective_value"
   ],
   "metadata": {
    "collapsed": false
   }
  },
  {
   "cell_type": "code",
   "execution_count": null,
   "outputs": [],
   "source": [
    "#problem 3\n",
    "import pyomo.environ as pyo\n",
    "\n",
    "def solve_problem3(T):\n",
    "    # Create a model\n",
    "    model = pyo.ConcreteModel()\n",
    "\n",
    "    # Variables\n",
    "    model.x = pyo.Var(within=pyo.UnitInterval)\n",
    "    model.y = pyo.Var(within=pyo.UnitInterval)\n",
    "\n",
    "    # Objective function\n",
    "    def obj_rule(model):\n",
    "        return model.y**(3/2) - pyo.exp(4 * model.x) * (model.y - 3/4)\n",
    "\n",
    "    model.objective = pyo.Objective(rule=obj_rule, sense=pyo.minimize)\n",
    "\n",
    "    # Solver configuration\n",
    "    solver = pyo.SolverFactory('baron')\n",
    "    solver.options['MaxTime'] = T\n",
    "    results = solver.solve(model, tee=True)\n",
    "\n",
    "    best_objective_value = pyo.value(model.objective)\n",
    "    return best_objective_value"
   ],
   "metadata": {
    "collapsed": false
   }
  },
  {
   "cell_type": "code",
   "execution_count": null,
   "outputs": [],
   "source": [
    "# problem 4\n",
    "import pyomo.environ as pyo\n",
    "\n",
    "def solve_problem4(T):\n",
    "    # Create a model\n",
    "    model = pyo.ConcreteModel()\n",
    "\n",
    "    # Variables\n",
    "    model.x = pyo.Var(within=pyo.UnitInterval)\n",
    "    model.y = pyo.Var(within=pyo.UnitInterval)\n",
    "    model.z = pyo.Var(within=pyo.UnitInterval)\n",
    "\n",
    "    # Objective function\n",
    "    def obj_rule(model):\n",
    "        return (2 * model.y - 1)**2 * (model.z - 2/5) - (2 * model.x - 1) * model.z + model.y * (2 * model.x - 3/2)**2\n",
    "\n",
    "    model.objective = pyo.Objective(rule=obj_rule, sense=pyo.minimize)\n",
    "\n",
    "    # Solver configuration\n",
    "    solver = pyo.SolverFactory('baron')\n",
    "    solver.options['MaxTime'] = T\n",
    "    results = solver.solve(model, tee=True)\n",
    "\n",
    "    best_objective_value = pyo.value(model.objective)\n",
    "    return best_objective_value"
   ],
   "metadata": {
    "collapsed": false
   }
  },
  {
   "cell_type": "code",
   "execution_count": null,
   "outputs": [],
   "source": [
    "#problem 5\n",
    "import pyomo.environ as pyo\n",
    "\n",
    "def solve_problem5(T):\n",
    "    # Create a model\n",
    "    model = pyo.ConcreteModel()\n",
    "\n",
    "    # Variables\n",
    "    model.x = pyo.Var(within=pyo.UnitInterval)\n",
    "    model.y = pyo.Var(within=pyo.UnitInterval)\n",
    "    model.z = pyo.Var(within=pyo.UnitInterval)\n",
    "\n",
    "    # Objective function\n",
    "    def obj_rule(model):\n",
    "        return 2 * pyo.exp(-model.x) * (2 * model.z - 1)**2 - 3 * (2 * model.y - 7/10)**2 * pyo.exp(-model.z) + pyo.log(model.x + 1) * (model.y - 4/5)\n",
    "\n",
    "    model.objective = pyo.Objective(rule=obj_rule, sense=pyo.minimize)\n",
    "\n",
    "    # Solver configuration\n",
    "    solver = pyo.SolverFactory('baron')\n",
    "    solver.options['MaxTime'] = T\n",
    "    results = solver.solve(model, tee=True)\n",
    "\n",
    "    best_objective_value = pyo.value(model.objective)\n",
    "    return best_objective_value"
   ],
   "metadata": {
    "collapsed": false
   }
  },
  {
   "cell_type": "code",
   "execution_count": null,
   "outputs": [],
   "source": [
    "new_results = dict()\n",
    "#problem 4\n",
    "T1 = 7.19e+1\n",
    "T2 = 1.57e+0\n",
    "new_results[(4, T1)] = solve_problem1(T1)\n",
    "new_results[(4, T2)] = solve_problem2(T2)\n",
    "\n",
    "#problem 5\n",
    "T1 = 7.56e+1\n",
    "T2 = 3.73e+0\n",
    "new_results[(5, T1)] = solve_problem2(T1)\n",
    "new_results[(5, T2)] = solve_problem2(T2)\n",
    "\n",
    "#problem 6\n",
    "T1 = 8.51e+1\n",
    "T2 = 3.83e+0\n",
    "new_results[(6, T1)] = solve_problem3(T1)\n",
    "new_results[(6, T2)] = solve_problem3(T2)\n",
    "\n",
    "#problem 8\n",
    "T1 = 3.20e+1\n",
    "T2 = 2.10e+0\n",
    "new_results[(8, T1)] = solve_problem4(T1)\n",
    "new_results[(8, T2)] = solve_problem4(T2)\n",
    "\n",
    "#problem 9\n",
    "T1 = 6.67e+1\n",
    "T2 = 3.03e+0\n",
    "new_results[(9, T1)] = solve_problem5(T1)\n",
    "new_results[(9, T2)] = solve_problem5(T2)"
   ],
   "metadata": {
    "collapsed": false
   }
  },
  {
   "cell_type": "code",
   "execution_count": null,
   "outputs": [],
   "source": [
    "new_results"
   ],
   "metadata": {
    "collapsed": false
   }
  },
  {
   "cell_type": "code",
   "execution_count": null,
   "outputs": [],
   "source": [],
   "metadata": {
    "collapsed": false
   }
  }
 ],
 "metadata": {
  "kernelspec": {
   "display_name": "Python 3",
   "language": "python",
   "name": "python3"
  },
  "language_info": {
   "codemirror_mode": {
    "name": "ipython",
    "version": 2
   },
   "file_extension": ".py",
   "mimetype": "text/x-python",
   "name": "python",
   "nbconvert_exporter": "python",
   "pygments_lexer": "ipython2",
   "version": "2.7.6"
  }
 },
 "nbformat": 4,
 "nbformat_minor": 0
}
